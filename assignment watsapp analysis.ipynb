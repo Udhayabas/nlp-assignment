{
 "cells": [
  {
   "cell_type": "code",
   "execution_count": 1,
   "id": "db288157",
   "metadata": {},
   "outputs": [],
   "source": [
    "import pandas as pd"
   ]
  },
  {
   "cell_type": "code",
   "execution_count": 2,
   "id": "123cbc30",
   "metadata": {},
   "outputs": [],
   "source": [
    "df = pd.read_csv(\"WhatsApp Chat with Ravi Sir.txt\",header=None,error_bad_lines=False,encoding='utf8')"
   ]
  },
  {
   "cell_type": "code",
   "execution_count": 3,
   "id": "52eb7d59",
   "metadata": {},
   "outputs": [
    {
     "name": "stdout",
     "output_type": "stream",
     "text": [
      "Column names:\n",
      "Int64Index([0, 1, 2, 3], dtype='int64')\n",
      "Original DataFrame:\n",
      "          0                                                  1  \\\n",
      "0  11/08/22   10:09 am - Messages and calls are end-to-end ...   \n",
      "1  24/08/22      6:51 pm - udhayamechengineer: <Media omitted>   \n",
      "2  27/08/22                 2:05 pm - Ravi Sir: Okay noted but   \n",
      "3  28/08/22                5:37 pm - Ravi Sir: <Media omitted>   \n",
      "4  01/09/22   9:31 am - udhayamechengineer: Urgent requirem...   \n",
      "\n",
      "                    2                                                3  \n",
      "0   not even WhatsApp   can read or listen to them. Tap to learn more.  \n",
      "1                 NaN                                              NaN  \n",
      "2                 NaN                                              NaN  \n",
      "3                 NaN                                              NaN  \n",
      "4                 NaN                                              NaN  \n",
      "          0                                                  1\n",
      "0  11/08/22   10:09 am - Messages and calls are end-to-end ...\n",
      "1  24/08/22      6:51 pm - udhayamechengineer: <Media omitted>\n",
      "2  27/08/22                 2:05 pm - Ravi Sir: Okay noted but\n",
      "3  28/08/22                5:37 pm - Ravi Sir: <Media omitted>\n",
      "4  01/09/22   9:31 am - udhayamechengineer: Urgent requirem...\n"
     ]
    }
   ],
   "source": [
    "# to delet the column 2,3\n",
    "\n",
    "# Display the column names\n",
    "print(\"Column names:\")\n",
    "print(df.columns)\n",
    "\n",
    "# Display the original DataFrame (first few rows for inspection)\n",
    "print(\"Original DataFrame:\")\n",
    "print(df.head())\n",
    "\n",
    "# Assuming the actual column names are '2' and '3' (as strings)\n",
    "# If they are integers, you should use integers instead\n",
    "columns_to_delete = [2, 3]\n",
    "\n",
    "# Check if columns exist and delete them\n",
    "columns_to_delete = [col for col in columns_to_delete if col in df.columns]\n",
    "df.drop(columns=columns_to_delete, inplace=True)\n",
    "print(df.head())\n"
   ]
  },
  {
   "cell_type": "code",
   "execution_count": 4,
   "id": "ced024b3",
   "metadata": {},
   "outputs": [
    {
     "data": {
      "text/html": [
       "<div>\n",
       "<style scoped>\n",
       "    .dataframe tbody tr th:only-of-type {\n",
       "        vertical-align: middle;\n",
       "    }\n",
       "\n",
       "    .dataframe tbody tr th {\n",
       "        vertical-align: top;\n",
       "    }\n",
       "\n",
       "    .dataframe thead th {\n",
       "        text-align: right;\n",
       "    }\n",
       "</style>\n",
       "<table border=\"1\" class=\"dataframe\">\n",
       "  <thead>\n",
       "    <tr style=\"text-align: right;\">\n",
       "      <th></th>\n",
       "      <th>Date</th>\n",
       "      <th>Time</th>\n",
       "      <th>Name</th>\n",
       "      <th>Chat</th>\n",
       "    </tr>\n",
       "  </thead>\n",
       "  <tbody>\n",
       "    <tr>\n",
       "      <th>0</th>\n",
       "      <td>11/08/22</td>\n",
       "      <td>10:09 am</td>\n",
       "      <td>Messages and calls are end-to-end encrypted. ...</td>\n",
       "      <td>None</td>\n",
       "    </tr>\n",
       "    <tr>\n",
       "      <th>1</th>\n",
       "      <td>24/08/22</td>\n",
       "      <td>6:51 pm</td>\n",
       "      <td>udhayamechengineer</td>\n",
       "      <td>&lt;Media omitted&gt;</td>\n",
       "    </tr>\n",
       "    <tr>\n",
       "      <th>2</th>\n",
       "      <td>27/08/22</td>\n",
       "      <td>2:05 pm</td>\n",
       "      <td>Ravi Sir</td>\n",
       "      <td>Okay noted but</td>\n",
       "    </tr>\n",
       "    <tr>\n",
       "      <th>3</th>\n",
       "      <td>28/08/22</td>\n",
       "      <td>5:37 pm</td>\n",
       "      <td>Ravi Sir</td>\n",
       "      <td>&lt;Media omitted&gt;</td>\n",
       "    </tr>\n",
       "    <tr>\n",
       "      <th>4</th>\n",
       "      <td>01/09/22</td>\n",
       "      <td>9:31 am</td>\n",
       "      <td>udhayamechengineer</td>\n",
       "      <td>Urgent requirement sir</td>\n",
       "    </tr>\n",
       "    <tr>\n",
       "      <th>...</th>\n",
       "      <td>...</td>\n",
       "      <td>...</td>\n",
       "      <td>...</td>\n",
       "      <td>...</td>\n",
       "    </tr>\n",
       "    <tr>\n",
       "      <th>355</th>\n",
       "      <td>12/12/23</td>\n",
       "      <td>1:14 pm</td>\n",
       "      <td>udhayamechengineer</td>\n",
       "      <td>&lt;Media omitted&gt;</td>\n",
       "    </tr>\n",
       "    <tr>\n",
       "      <th>356</th>\n",
       "      <td>12/12/23</td>\n",
       "      <td>1:14 pm</td>\n",
       "      <td>udhayamechengineer</td>\n",
       "      <td>&lt;Media omitted&gt;</td>\n",
       "    </tr>\n",
       "    <tr>\n",
       "      <th>357</th>\n",
       "      <td>12/12/23</td>\n",
       "      <td>1:14 pm</td>\n",
       "      <td>udhayamechengineer</td>\n",
       "      <td>For SFD 1A drive pulley</td>\n",
       "    </tr>\n",
       "    <tr>\n",
       "      <th>358</th>\n",
       "      <td>14/12/23</td>\n",
       "      <td>11:35 am</td>\n",
       "      <td>udhayamechengineer</td>\n",
       "      <td>&lt;Media omitted&gt;</td>\n",
       "    </tr>\n",
       "    <tr>\n",
       "      <th>359</th>\n",
       "      <td>14/12/23</td>\n",
       "      <td>11:46 am</td>\n",
       "      <td>Ravi Sir</td>\n",
       "      <td>👍🏻</td>\n",
       "    </tr>\n",
       "  </tbody>\n",
       "</table>\n",
       "<p>360 rows × 4 columns</p>\n",
       "</div>"
      ],
      "text/plain": [
       "         Date        Time                                               Name  \\\n",
       "0    11/08/22   10:09 am    Messages and calls are end-to-end encrypted. ...   \n",
       "1    24/08/22    6:51 pm                                  udhayamechengineer   \n",
       "2    27/08/22    2:05 pm                                            Ravi Sir   \n",
       "3    28/08/22    5:37 pm                                            Ravi Sir   \n",
       "4    01/09/22    9:31 am                                  udhayamechengineer   \n",
       "..        ...         ...                                                ...   \n",
       "355  12/12/23    1:14 pm                                  udhayamechengineer   \n",
       "356  12/12/23    1:14 pm                                  udhayamechengineer   \n",
       "357  12/12/23    1:14 pm                                  udhayamechengineer   \n",
       "358  14/12/23   11:35 am                                  udhayamechengineer   \n",
       "359  14/12/23   11:46 am                                            Ravi Sir   \n",
       "\n",
       "                         Chat  \n",
       "0                        None  \n",
       "1             <Media omitted>  \n",
       "2              Okay noted but  \n",
       "3             <Media omitted>  \n",
       "4      Urgent requirement sir  \n",
       "..                        ...  \n",
       "355           <Media omitted>  \n",
       "356           <Media omitted>  \n",
       "357   For SFD 1A drive pulley  \n",
       "358           <Media omitted>  \n",
       "359                        👍🏻  \n",
       "\n",
       "[360 rows x 4 columns]"
      ]
     },
     "execution_count": 4,
     "metadata": {},
     "output_type": "execute_result"
    }
   ],
   "source": [
    "df.columns=['Date','Chat']\n",
    "Message=df[\"Chat\"].str.split(\"-\",n=1,expand=True)\n",
    "df[\"Time\"]=Message[0]\n",
    "Message1=Message[1].str.split(\":\",n=1,expand=True)\n",
    "df[\"Name\"]=Message1[0]\n",
    "df[\"Chat\"]=Message1[1]\n",
    "df=df[[\"Date\",\"Time\",\"Name\",\"Chat\"]]\n",
    "df\n"
   ]
  },
  {
   "cell_type": "code",
   "execution_count": 5,
   "id": "2e9bd820",
   "metadata": {},
   "outputs": [
    {
     "data": {
      "text/html": [
       "<div>\n",
       "<style scoped>\n",
       "    .dataframe tbody tr th:only-of-type {\n",
       "        vertical-align: middle;\n",
       "    }\n",
       "\n",
       "    .dataframe tbody tr th {\n",
       "        vertical-align: top;\n",
       "    }\n",
       "\n",
       "    .dataframe thead th {\n",
       "        text-align: right;\n",
       "    }\n",
       "</style>\n",
       "<table border=\"1\" class=\"dataframe\">\n",
       "  <thead>\n",
       "    <tr style=\"text-align: right;\">\n",
       "      <th></th>\n",
       "      <th>Date</th>\n",
       "      <th>Time</th>\n",
       "      <th>Name</th>\n",
       "      <th>Chat</th>\n",
       "    </tr>\n",
       "  </thead>\n",
       "  <tbody>\n",
       "    <tr>\n",
       "      <th>0</th>\n",
       "      <td>24/08/22</td>\n",
       "      <td>6:51 pm</td>\n",
       "      <td>udhayamechengineer</td>\n",
       "      <td>&lt;Media omitted&gt;</td>\n",
       "    </tr>\n",
       "    <tr>\n",
       "      <th>1</th>\n",
       "      <td>27/08/22</td>\n",
       "      <td>2:05 pm</td>\n",
       "      <td>Ravi Sir</td>\n",
       "      <td>Okay noted but</td>\n",
       "    </tr>\n",
       "    <tr>\n",
       "      <th>2</th>\n",
       "      <td>28/08/22</td>\n",
       "      <td>5:37 pm</td>\n",
       "      <td>Ravi Sir</td>\n",
       "      <td>&lt;Media omitted&gt;</td>\n",
       "    </tr>\n",
       "    <tr>\n",
       "      <th>3</th>\n",
       "      <td>01/09/22</td>\n",
       "      <td>9:31 am</td>\n",
       "      <td>udhayamechengineer</td>\n",
       "      <td>Urgent requirement sir</td>\n",
       "    </tr>\n",
       "    <tr>\n",
       "      <th>4</th>\n",
       "      <td>02/09/22</td>\n",
       "      <td>8:38 pm</td>\n",
       "      <td>udhayamechengineer</td>\n",
       "      <td>Crane Velu Anna.vcf (file attached)</td>\n",
       "    </tr>\n",
       "    <tr>\n",
       "      <th>...</th>\n",
       "      <td>...</td>\n",
       "      <td>...</td>\n",
       "      <td>...</td>\n",
       "      <td>...</td>\n",
       "    </tr>\n",
       "    <tr>\n",
       "      <th>354</th>\n",
       "      <td>12/12/23</td>\n",
       "      <td>1:14 pm</td>\n",
       "      <td>udhayamechengineer</td>\n",
       "      <td>&lt;Media omitted&gt;</td>\n",
       "    </tr>\n",
       "    <tr>\n",
       "      <th>355</th>\n",
       "      <td>12/12/23</td>\n",
       "      <td>1:14 pm</td>\n",
       "      <td>udhayamechengineer</td>\n",
       "      <td>&lt;Media omitted&gt;</td>\n",
       "    </tr>\n",
       "    <tr>\n",
       "      <th>356</th>\n",
       "      <td>12/12/23</td>\n",
       "      <td>1:14 pm</td>\n",
       "      <td>udhayamechengineer</td>\n",
       "      <td>For SFD 1A drive pulley</td>\n",
       "    </tr>\n",
       "    <tr>\n",
       "      <th>357</th>\n",
       "      <td>14/12/23</td>\n",
       "      <td>11:35 am</td>\n",
       "      <td>udhayamechengineer</td>\n",
       "      <td>&lt;Media omitted&gt;</td>\n",
       "    </tr>\n",
       "    <tr>\n",
       "      <th>358</th>\n",
       "      <td>14/12/23</td>\n",
       "      <td>11:46 am</td>\n",
       "      <td>Ravi Sir</td>\n",
       "      <td>👍🏻</td>\n",
       "    </tr>\n",
       "  </tbody>\n",
       "</table>\n",
       "<p>359 rows × 4 columns</p>\n",
       "</div>"
      ],
      "text/plain": [
       "         Date        Time                 Name  \\\n",
       "0    24/08/22    6:51 pm    udhayamechengineer   \n",
       "1    27/08/22    2:05 pm              Ravi Sir   \n",
       "2    28/08/22    5:37 pm              Ravi Sir   \n",
       "3    01/09/22    9:31 am    udhayamechengineer   \n",
       "4    02/09/22    8:38 pm    udhayamechengineer   \n",
       "..        ...         ...                  ...   \n",
       "354  12/12/23    1:14 pm    udhayamechengineer   \n",
       "355  12/12/23    1:14 pm    udhayamechengineer   \n",
       "356  12/12/23    1:14 pm    udhayamechengineer   \n",
       "357  14/12/23   11:35 am    udhayamechengineer   \n",
       "358  14/12/23   11:46 am              Ravi Sir   \n",
       "\n",
       "                                     Chat  \n",
       "0                         <Media omitted>  \n",
       "1                          Okay noted but  \n",
       "2                         <Media omitted>  \n",
       "3                  Urgent requirement sir  \n",
       "4     Crane Velu Anna.vcf (file attached)  \n",
       "..                                    ...  \n",
       "354                       <Media omitted>  \n",
       "355                       <Media omitted>  \n",
       "356               For SFD 1A drive pulley  \n",
       "357                       <Media omitted>  \n",
       "358                                    👍🏻  \n",
       "\n",
       "[359 rows x 4 columns]"
      ]
     },
     "execution_count": 5,
     "metadata": {},
     "output_type": "execute_result"
    }
   ],
   "source": [
    "#to delete the first row for unknown data\n",
    "df = df.iloc[1:]\n",
    "\n",
    "# Optionally, reset the index if needed\n",
    "df.reset_index(drop=True, inplace=True)\n",
    "df"
   ]
  },
  {
   "cell_type": "markdown",
   "id": "eeff3aff",
   "metadata": {},
   "source": [
    "# #most talkative and less talkative"
   ]
  },
  {
   "cell_type": "code",
   "execution_count": 6,
   "id": "550a9b7b",
   "metadata": {},
   "outputs": [
    {
     "name": "stdout",
     "output_type": "stream",
     "text": [
      "Most talkative participant:  udhayamechengineer with 262 messages\n",
      "Least talkative participant:  Ravi Sir with 97 messages\n"
     ]
    },
    {
     "name": "stderr",
     "output_type": "stream",
     "text": [
      "C:\\Users\\udhaya\\Anaconda3\\envs\\aim1\\lib\\site-packages\\ipykernel_launcher.py:2: SettingWithCopyWarning: \n",
      "A value is trying to be set on a copy of a slice from a DataFrame.\n",
      "Try using .loc[row_indexer,col_indexer] = value instead\n",
      "\n",
      "See the caveats in the documentation: http://pandas.pydata.org/pandas-docs/stable/user_guide/indexing.html#returning-a-view-versus-a-copy\n",
      "  \n",
      "C:\\Users\\udhaya\\Anaconda3\\envs\\aim1\\lib\\site-packages\\ipykernel_launcher.py:3: SettingWithCopyWarning: \n",
      "A value is trying to be set on a copy of a slice from a DataFrame.\n",
      "Try using .loc[row_indexer,col_indexer] = value instead\n",
      "\n",
      "See the caveats in the documentation: http://pandas.pydata.org/pandas-docs/stable/user_guide/indexing.html#returning-a-view-versus-a-copy\n",
      "  This is separate from the ipykernel package so we can avoid doing imports until\n",
      "C:\\Users\\udhaya\\Anaconda3\\envs\\aim1\\lib\\site-packages\\ipykernel_launcher.py:6: SettingWithCopyWarning: \n",
      "A value is trying to be set on a copy of a slice from a DataFrame.\n",
      "Try using .loc[row_indexer,col_indexer] = value instead\n",
      "\n",
      "See the caveats in the documentation: http://pandas.pydata.org/pandas-docs/stable/user_guide/indexing.html#returning-a-view-versus-a-copy\n",
      "  \n"
     ]
    }
   ],
   "source": [
    "#most talkative and less talkative \n",
    "#Step 1: Clean up 'Date' and 'Time' columns\n",
    "df['Date'] = df['Date'].str.strip()\n",
    "df['Time'] = df['Time'].str.strip()\n",
    "\n",
    "# Convert 'Date' and 'Time' columns to datetime format\n",
    "df['DateTime'] = pd.to_datetime(df['Date'] + ' ' + df['Time'], format='%d/%m/%y %I:%M %p')\n",
    "\n",
    "# Step 2: Identify the most talkative and least talkative participants\n",
    "message_counts = df['Name'].value_counts()\n",
    "\n",
    "if not message_counts.empty:\n",
    "    most_talkative = message_counts.idxmax()\n",
    "    least_talkative = message_counts.idxmin()\n",
    "\n",
    "    print(f\"Most talkative participant: {most_talkative} with {message_counts.max()} messages\")\n",
    "    print(f\"Least talkative participant: {least_talkative} with {message_counts.min()} messages\")\n",
    "else:\n",
    "    print(\"No messages found in the chat log.\")\n"
   ]
  },
  {
   "cell_type": "markdown",
   "id": "b2cf6f99",
   "metadata": {},
   "source": [
    "# most active day and most active time"
   ]
  },
  {
   "cell_type": "code",
   "execution_count": 7,
   "id": "e760b664",
   "metadata": {},
   "outputs": [
    {
     "name": "stdout",
     "output_type": "stream",
     "text": [
      "Most active day: 2023-06-02\n",
      "Most active time: 1:01 pm\n"
     ]
    },
    {
     "name": "stderr",
     "output_type": "stream",
     "text": [
      "C:\\Users\\udhaya\\Anaconda3\\envs\\aim1\\lib\\site-packages\\ipykernel_launcher.py:2: SettingWithCopyWarning: \n",
      "A value is trying to be set on a copy of a slice from a DataFrame.\n",
      "Try using .loc[row_indexer,col_indexer] = value instead\n",
      "\n",
      "See the caveats in the documentation: http://pandas.pydata.org/pandas-docs/stable/user_guide/indexing.html#returning-a-view-versus-a-copy\n",
      "  \n"
     ]
    }
   ],
   "source": [
    "# Step 3: Determine the most active day and time\n",
    "df['Date'] = pd.to_datetime(df['Date'], format='%d/%m/%y')\n",
    "most_active_day = df['Date'].value_counts().idxmax()\n",
    "most_active_time = df['Time'].value_counts().idxmax()\n",
    "\n",
    "print(f\"Most active day: {most_active_day.date()}\")\n",
    "print(f\"Most active time: {most_active_time}\")\n"
   ]
  },
  {
   "cell_type": "markdown",
   "id": "ee080072",
   "metadata": {},
   "source": [
    "# media count sent by each persons"
   ]
  },
  {
   "cell_type": "code",
   "execution_count": 8,
   "id": "b4821542",
   "metadata": {},
   "outputs": [
    {
     "name": "stdout",
     "output_type": "stream",
     "text": [
      "\n",
      "Media counts by participant:\n",
      " udhayamechengineer    197\n",
      " Ravi Sir               42\n",
      "Name: Name, dtype: int64\n"
     ]
    }
   ],
   "source": [
    "# Step 4: Count the media messages sent by each person\n",
    "# Ensure '<Media omitted>' matches exactly\n",
    "media_counts = df[df['Chat'].str.contains('<Media omitted>', case=False, na=False)]['Name'].value_counts()\n",
    "print(\"\\nMedia counts by participant:\")\n",
    "print(media_counts)\n"
   ]
  },
  {
   "cell_type": "markdown",
   "id": "1e8afd75",
   "metadata": {},
   "source": [
    "# missed call all"
   ]
  },
  {
   "cell_type": "code",
   "execution_count": 9,
   "id": "508c55c1",
   "metadata": {},
   "outputs": [
    {
     "name": "stdout",
     "output_type": "stream",
     "text": [
      "\n",
      "Missed calls:\n",
      "Empty DataFrame\n",
      "Columns: [Date, Time, Name, Chat, DateTime]\n",
      "Index: []\n"
     ]
    }
   ],
   "source": [
    "# Step 5: Identify all missed calls (assuming missed calls have specific text in 'Chat')\n",
    "missed_calls = df[df['Chat'].str.contains('missed call', case=False, na=False)]\n",
    "print(\"\\nMissed calls:\")\n",
    "print(missed_calls)"
   ]
  },
  {
   "cell_type": "code",
   "execution_count": null,
   "id": "d9005e42",
   "metadata": {},
   "outputs": [],
   "source": []
  }
 ],
 "metadata": {
  "kernelspec": {
   "display_name": "Python 3 (ipykernel)",
   "language": "python",
   "name": "python3"
  },
  "language_info": {
   "codemirror_mode": {
    "name": "ipython",
    "version": 3
   },
   "file_extension": ".py",
   "mimetype": "text/x-python",
   "name": "python",
   "nbconvert_exporter": "python",
   "pygments_lexer": "ipython3",
   "version": "3.7.16"
  }
 },
 "nbformat": 4,
 "nbformat_minor": 5
}
